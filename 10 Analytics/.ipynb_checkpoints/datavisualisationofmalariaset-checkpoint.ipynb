{
 "cells": [
  {
   "cell_type": "code",
   "execution_count": null,
   "metadata": {
    "_cell_guid": "b1076dfc-b9ad-4769-8c92-a6c4dae69d19",
    "_uuid": "8f2839f25d086af736a60e9eeb907d3b93b6e0e5"
   },
   "outputs": [],
   "source": [
    "# This Python 3 environment comes with many helpful analytics libraries installed\n",
    "# It is defined by the kaggle/python Docker image: https://github.com/kaggle/docker-python\n",
    "# For example, here's several helpful packages to load\n",
    "\n",
    " # linear algebra\n",
    "import pandas as pd # data processing, CSV file I/O (e.g. pd.read_csv)\n",
    "\n",
    "# Input data files are available in the read-only \"../input/\" directory\n",
    "# For example, running this (by clicking run or pressing Shift+Enter) will list all files under the input directory\n",
    "\n",
    "import os\n",
    "for dirname, _, filenames in os.walk('/kaggle/input'):\n",
    "    for filename in filenames:\n",
    "        print(os.path.join(dirname, filename))\n",
    "\n",
    "# You can write up to 5GB to the current directory (/kaggle/working/) that gets preserved as output when you create a version using \"Save & Run All\" \n",
    "# You can also write temporary files to /kaggle/temp/, but they won't be saved outside of the current session"
   ]
  },
  {
   "cell_type": "markdown",
   "metadata": {},
   "source": [
    "Univariate plotting with pandas"
   ]
  },
  {
   "cell_type": "code",
   "execution_count": 1,
   "metadata": {
    "_cell_guid": "79c7e3d0-c299-4dcb-8224-4455121ee9b0",
    "_uuid": "d629ff2d2480ee46fbb7e2d37f6b5fab8052498a"
   },
   "outputs": [
    {
     "data": {
      "text/html": [
       "<div>\n",
       "<style scoped>\n",
       "    .dataframe tbody tr th:only-of-type {\n",
       "        vertical-align: middle;\n",
       "    }\n",
       "\n",
       "    .dataframe tbody tr th {\n",
       "        vertical-align: top;\n",
       "    }\n",
       "\n",
       "    .dataframe thead th {\n",
       "        text-align: right;\n",
       "    }\n",
       "</style>\n",
       "<table border=\"1\" class=\"dataframe\">\n",
       "  <thead>\n",
       "    <tr style=\"text-align: right;\">\n",
       "      <th></th>\n",
       "      <th>Country Name</th>\n",
       "      <th>Year</th>\n",
       "      <th>Country Code</th>\n",
       "      <th>Incidence of malaria (per 1,000 population at risk)</th>\n",
       "      <th>Malaria cases reported</th>\n",
       "      <th>Use of insecticide-treated bed nets (% of under-5 population)</th>\n",
       "      <th>Children with fever receiving antimalarial drugs (% of children under age 5 with fever)</th>\n",
       "      <th>Intermittent preventive treatment (IPT) of malaria in pregnancy (% of pregnant women)</th>\n",
       "      <th>People using safely managed drinking water services (% of population)</th>\n",
       "      <th>People using safely managed drinking water services, rural (% of rural population)</th>\n",
       "      <th>...</th>\n",
       "      <th>Urban population growth (annual %)</th>\n",
       "      <th>People using at least basic drinking water services (% of population)</th>\n",
       "      <th>People using at least basic drinking water services, rural (% of rural population)</th>\n",
       "      <th>People using at least basic drinking water services, urban (% of urban population)</th>\n",
       "      <th>People using at least basic sanitation services (% of population)</th>\n",
       "      <th>People using at least basic sanitation services, rural (% of rural population)</th>\n",
       "      <th>People using at least basic sanitation services, urban  (% of urban population)</th>\n",
       "      <th>latitude</th>\n",
       "      <th>longitude</th>\n",
       "      <th>geometry</th>\n",
       "    </tr>\n",
       "  </thead>\n",
       "  <tbody>\n",
       "    <tr>\n",
       "      <th>0</th>\n",
       "      <td>Algeria</td>\n",
       "      <td>2007</td>\n",
       "      <td>DZA</td>\n",
       "      <td>0.01</td>\n",
       "      <td>26.0</td>\n",
       "      <td>NaN</td>\n",
       "      <td>NaN</td>\n",
       "      <td>NaN</td>\n",
       "      <td>NaN</td>\n",
       "      <td>NaN</td>\n",
       "      <td>...</td>\n",
       "      <td>2.71</td>\n",
       "      <td>91.68</td>\n",
       "      <td>85.83</td>\n",
       "      <td>94.78</td>\n",
       "      <td>85.85</td>\n",
       "      <td>76.94</td>\n",
       "      <td>90.57</td>\n",
       "      <td>28.033886</td>\n",
       "      <td>1.659626</td>\n",
       "      <td>POINT (28.033886 1.659626)</td>\n",
       "    </tr>\n",
       "    <tr>\n",
       "      <th>1</th>\n",
       "      <td>Angola</td>\n",
       "      <td>2007</td>\n",
       "      <td>AGO</td>\n",
       "      <td>286.72</td>\n",
       "      <td>1533485.0</td>\n",
       "      <td>18.0</td>\n",
       "      <td>29.8</td>\n",
       "      <td>1.5</td>\n",
       "      <td>NaN</td>\n",
       "      <td>NaN</td>\n",
       "      <td>...</td>\n",
       "      <td>5.01</td>\n",
       "      <td>47.96</td>\n",
       "      <td>23.77</td>\n",
       "      <td>65.83</td>\n",
       "      <td>37.26</td>\n",
       "      <td>14.00</td>\n",
       "      <td>54.44</td>\n",
       "      <td>-11.202692</td>\n",
       "      <td>17.873887</td>\n",
       "      <td>POINT (-11.202692 17.873887)</td>\n",
       "    </tr>\n",
       "    <tr>\n",
       "      <th>2</th>\n",
       "      <td>Benin</td>\n",
       "      <td>2007</td>\n",
       "      <td>BEN</td>\n",
       "      <td>480.24</td>\n",
       "      <td>0.0</td>\n",
       "      <td>NaN</td>\n",
       "      <td>NaN</td>\n",
       "      <td>NaN</td>\n",
       "      <td>NaN</td>\n",
       "      <td>NaN</td>\n",
       "      <td>...</td>\n",
       "      <td>4.09</td>\n",
       "      <td>63.78</td>\n",
       "      <td>54.92</td>\n",
       "      <td>76.24</td>\n",
       "      <td>11.80</td>\n",
       "      <td>4.29</td>\n",
       "      <td>22.36</td>\n",
       "      <td>9.307690</td>\n",
       "      <td>2.315834</td>\n",
       "      <td>POINT (9.307689999999999 2.315834)</td>\n",
       "    </tr>\n",
       "  </tbody>\n",
       "</table>\n",
       "<p>3 rows × 27 columns</p>\n",
       "</div>"
      ],
      "text/plain": [
       "  Country Name  Year Country Code  \\\n",
       "0      Algeria  2007          DZA   \n",
       "1       Angola  2007          AGO   \n",
       "2        Benin  2007          BEN   \n",
       "\n",
       "   Incidence of malaria (per 1,000 population at risk)  \\\n",
       "0                                               0.01     \n",
       "1                                             286.72     \n",
       "2                                             480.24     \n",
       "\n",
       "   Malaria cases reported  \\\n",
       "0                    26.0   \n",
       "1               1533485.0   \n",
       "2                     0.0   \n",
       "\n",
       "   Use of insecticide-treated bed nets (% of under-5 population)  \\\n",
       "0                                                NaN               \n",
       "1                                               18.0               \n",
       "2                                                NaN               \n",
       "\n",
       "   Children with fever receiving antimalarial drugs (% of children under age 5 with fever)  \\\n",
       "0                                                NaN                                         \n",
       "1                                               29.8                                         \n",
       "2                                                NaN                                         \n",
       "\n",
       "   Intermittent preventive treatment (IPT) of malaria in pregnancy (% of pregnant women)  \\\n",
       "0                                                NaN                                       \n",
       "1                                                1.5                                       \n",
       "2                                                NaN                                       \n",
       "\n",
       "   People using safely managed drinking water services (% of population)  \\\n",
       "0                                                NaN                       \n",
       "1                                                NaN                       \n",
       "2                                                NaN                       \n",
       "\n",
       "   People using safely managed drinking water services, rural (% of rural population)  \\\n",
       "0                                                NaN                                    \n",
       "1                                                NaN                                    \n",
       "2                                                NaN                                    \n",
       "\n",
       "   ...  Urban population growth (annual %)  \\\n",
       "0  ...                                2.71   \n",
       "1  ...                                5.01   \n",
       "2  ...                                4.09   \n",
       "\n",
       "   People using at least basic drinking water services (% of population)  \\\n",
       "0                                              91.68                       \n",
       "1                                              47.96                       \n",
       "2                                              63.78                       \n",
       "\n",
       "   People using at least basic drinking water services, rural (% of rural population)  \\\n",
       "0                                              85.83                                    \n",
       "1                                              23.77                                    \n",
       "2                                              54.92                                    \n",
       "\n",
       "   People using at least basic drinking water services, urban (% of urban population)  \\\n",
       "0                                              94.78                                    \n",
       "1                                              65.83                                    \n",
       "2                                              76.24                                    \n",
       "\n",
       "   People using at least basic sanitation services (% of population)  \\\n",
       "0                                              85.85                   \n",
       "1                                              37.26                   \n",
       "2                                              11.80                   \n",
       "\n",
       "   People using at least basic sanitation services, rural (% of rural population)  \\\n",
       "0                                              76.94                                \n",
       "1                                              14.00                                \n",
       "2                                               4.29                                \n",
       "\n",
       "   People using at least basic sanitation services, urban  (% of urban population)  \\\n",
       "0                                              90.57                                 \n",
       "1                                              54.44                                 \n",
       "2                                              22.36                                 \n",
       "\n",
       "    latitude  longitude                            geometry  \n",
       "0  28.033886   1.659626          POINT (28.033886 1.659626)  \n",
       "1 -11.202692  17.873887        POINT (-11.202692 17.873887)  \n",
       "2   9.307690   2.315834  POINT (9.307689999999999 2.315834)  \n",
       "\n",
       "[3 rows x 27 columns]"
      ]
     },
     "execution_count": 1,
     "metadata": {},
     "output_type": "execute_result"
    }
   ],
   "source": [
    "import numpy as np\n",
    "import pandas as pd\n",
    "cases = pd.read_csv(\"DatasetAfricaMalaria.csv\")\n",
    "cases.head(3)"
   ]
  },
  {
   "cell_type": "markdown",
   "metadata": {},
   "source": [
    "Bar charts and categorical data"
   ]
  },
  {
   "cell_type": "code",
   "execution_count": 2,
   "metadata": {},
   "outputs": [
    {
     "data": {
      "text/plain": [
       "<matplotlib.axes._subplots.AxesSubplot at 0x7fafa4f64590>"
      ]
     },
     "execution_count": 2,
     "metadata": {},
     "output_type": "execute_result"
    },
    {
     "data": {
      "image/png": "[encoded data removed]",
      "text/plain": [
       "<Figure size 432x288 with 1 Axes>"
      ]
     },
     "metadata": {
      "needs_background": "light"
     },
     "output_type": "display_data"
    }
   ],
   "source": [
    "reviews['WHO Region'].value_counts().head(10).plot.bar()"
   ]
  },
  {
   "cell_type": "code",
   "execution_count": 3,
   "metadata": {},
   "outputs": [
    {
     "data": {
      "text/plain": [
       "<matplotlib.axes._subplots.AxesSubplot at 0x7fafa4cdb250>"
      ]
     },
     "execution_count": 3,
     "metadata": {},
     "output_type": "execute_result"
    },
    {
     "data": {
      "image/png": "[encoded data removed]",
      "text/plain": [
       "<Figure size 432x288 with 1 Axes>"
      ]
     },
     "metadata": {
      "needs_background": "light"
     },
     "output_type": "display_data"
    }
   ],
   "source": [
    "(reviews['WHO Region'].value_counts().head(10) / len(reviews)).plot.bar()"
   ]
  },
  {
   "cell_type": "code",
   "execution_count": 9,
   "metadata": {},
   "outputs": [
    {
     "data": {
      "text/plain": [
       "<matplotlib.axes._subplots.AxesSubplot at 0x7faf9c126f90>"
      ]
     },
     "execution_count": 9,
     "metadata": {},
     "output_type": "execute_result"
    },
    {
     "data": {
      "image/png": "[encoded data removed]",
      "text/plain": [
       "<Figure size 432x288 with 1 Axes>"
      ]
     },
     "metadata": {
      "needs_background": "light"
     },
     "output_type": "display_data"
    }
   ],
   "source": [
    "reviews['No. of deaths_max'].value_counts().sort_index().plot.bar()"
   ]
  },
  {
   "cell_type": "markdown",
   "metadata": {},
   "source": [
    "Line Charts"
   ]
  },
  {
   "cell_type": "code",
   "execution_count": 10,
   "metadata": {},
   "outputs": [
    {
     "data": {
      "text/plain": [
       "<matplotlib.axes._subplots.AxesSubplot at 0x7faf978fba90>"
      ]
     },
     "execution_count": 10,
     "metadata": {},
     "output_type": "execute_result"
    },
    {
     "data": {
      "image/png": "[encoded data removed]",
      "text/plain": [
       "<Figure size 432x288 with 1 Axes>"
      ]
     },
     "metadata": {
      "needs_background": "light"
     },
     "output_type": "display_data"
    }
   ],
   "source": [
    "reviews['No. of deaths_max'].value_counts().sort_index().plot.line()"
   ]
  },
  {
   "cell_type": "markdown",
   "metadata": {},
   "source": [
    "Area charts"
   ]
  },
  {
   "cell_type": "code",
   "execution_count": 11,
   "metadata": {},
   "outputs": [
    {
     "data": {
      "text/plain": [
       "<matplotlib.axes._subplots.AxesSubplot at 0x7faf9788a490>"
      ]
     },
     "execution_count": 11,
     "metadata": {},
     "output_type": "execute_result"
    },
    {
     "data": {
      "image/png": "[encoded data removed]",
      "text/plain": [
       "<Figure size 432x288 with 1 Axes>"
      ]
     },
     "metadata": {
      "needs_background": "light"
     },
     "output_type": "display_data"
    }
   ],
   "source": [
    "reviews['No. of deaths_max'].value_counts().sort_index().plot.area()"
   ]
  },
  {
   "cell_type": "markdown",
   "metadata": {},
   "source": [
    "Histograms"
   ]
  },
  {
   "cell_type": "code",
   "execution_count": 12,
   "metadata": {},
   "outputs": [
    {
     "data": {
      "text/plain": [
       "<matplotlib.axes._subplots.AxesSubplot at 0x7faf97875e50>"
      ]
     },
     "execution_count": 12,
     "metadata": {},
     "output_type": "execute_result"
    },
    {
     "data": {
      "image/png": "[encoded data removed]",
      "text/plain": [
       "<Figure size 432x288 with 1 Axes>"
      ]
     },
     "metadata": {
      "needs_background": "light"
     },
     "output_type": "display_data"
    }
   ],
   "source": [
    "reviews[reviews['No. of deaths_max'] < 200]['No. of deaths_max'].plot.hist()"
   ]
  },
  {
   "cell_type": "code",
   "execution_count": 13,
   "metadata": {},
   "outputs": [
    {
     "data": {
      "text/plain": [
       "<matplotlib.axes._subplots.AxesSubplot at 0x7faf97856750>"
      ]
     },
     "execution_count": 13,
     "metadata": {},
     "output_type": "execute_result"
    },
    {
     "data": {
      "image/png": "[encoded data removed]",
      "text/plain": [
       "<Figure size 432x288 with 1 Axes>"
      ]
     },
     "metadata": {
      "needs_background": "light"
     },
     "output_type": "display_data"
    }
   ],
   "source": [
    "reviews['No. of deaths_max'].plot.hist()"
   ]
  },
  {
   "cell_type": "code",
   "execution_count": 14,
   "metadata": {},
   "outputs": [
    {
     "data": {
      "text/html": [
       "<div>\n",
       "<style scoped>\n",
       "    .dataframe tbody tr th:only-of-type {\n",
       "        vertical-align: middle;\n",
       "    }\n",
       "\n",
       "    .dataframe tbody tr th {\n",
       "        vertical-align: top;\n",
       "    }\n",
       "\n",
       "    .dataframe thead th {\n",
       "        text-align: right;\n",
       "    }\n",
       "</style>\n",
       "<table border=\"1\" class=\"dataframe\">\n",
       "  <thead>\n",
       "    <tr style=\"text-align: right;\">\n",
       "      <th></th>\n",
       "      <th>Year</th>\n",
       "      <th>No. of cases</th>\n",
       "      <th>No. of deaths</th>\n",
       "      <th>No. of cases_median</th>\n",
       "      <th>No. of cases_min</th>\n",
       "      <th>No. of cases_max</th>\n",
       "      <th>No. of deaths_median</th>\n",
       "      <th>No. of deaths_min</th>\n",
       "      <th>No. of deaths_max</th>\n",
       "      <th>WHO Region</th>\n",
       "    </tr>\n",
       "    <tr>\n",
       "      <th>Country</th>\n",
       "      <th></th>\n",
       "      <th></th>\n",
       "      <th></th>\n",
       "      <th></th>\n",
       "      <th></th>\n",
       "      <th></th>\n",
       "      <th></th>\n",
       "      <th></th>\n",
       "      <th></th>\n",
       "      <th></th>\n",
       "    </tr>\n",
       "  </thead>\n",
       "  <tbody>\n",
       "    <tr>\n",
       "      <th>Angola</th>\n",
       "      <td>2017</td>\n",
       "      <td>4615605[3106000-6661000]</td>\n",
       "      <td>13316[9970-16600]</td>\n",
       "      <td>4615605</td>\n",
       "      <td>3106000.0</td>\n",
       "      <td>6661000.0</td>\n",
       "      <td>13316</td>\n",
       "      <td>9970.0</td>\n",
       "      <td>16600.0</td>\n",
       "      <td>Africa</td>\n",
       "    </tr>\n",
       "    <tr>\n",
       "      <th>Benin</th>\n",
       "      <td>2017</td>\n",
       "      <td>4111699[2774000-6552000]</td>\n",
       "      <td>7328[5740-8920]</td>\n",
       "      <td>4111699</td>\n",
       "      <td>2774000.0</td>\n",
       "      <td>6552000.0</td>\n",
       "      <td>7328</td>\n",
       "      <td>5740.0</td>\n",
       "      <td>8920.0</td>\n",
       "      <td>Africa</td>\n",
       "    </tr>\n",
       "    <tr>\n",
       "      <th>Burkina Faso</th>\n",
       "      <td>2017</td>\n",
       "      <td>7907562[5645000-11330000]</td>\n",
       "      <td>27791[25100-30500]</td>\n",
       "      <td>7907562</td>\n",
       "      <td>5645000.0</td>\n",
       "      <td>11330000.0</td>\n",
       "      <td>27791</td>\n",
       "      <td>25100.0</td>\n",
       "      <td>30500.0</td>\n",
       "      <td>Africa</td>\n",
       "    </tr>\n",
       "    <tr>\n",
       "      <th>Burundi</th>\n",
       "      <td>2017</td>\n",
       "      <td>2113066[1284000-3401000]</td>\n",
       "      <td>5253[4300-6200]</td>\n",
       "      <td>2113066</td>\n",
       "      <td>1284000.0</td>\n",
       "      <td>3401000.0</td>\n",
       "      <td>5253</td>\n",
       "      <td>4300.0</td>\n",
       "      <td>6200.0</td>\n",
       "      <td>Africa</td>\n",
       "    </tr>\n",
       "    <tr>\n",
       "      <th>Cameroon</th>\n",
       "      <td>2017</td>\n",
       "      <td>7307515[4704000-11030000]</td>\n",
       "      <td>11566[8900-14200]</td>\n",
       "      <td>7307515</td>\n",
       "      <td>4704000.0</td>\n",
       "      <td>11030000.0</td>\n",
       "      <td>11566</td>\n",
       "      <td>8900.0</td>\n",
       "      <td>14200.0</td>\n",
       "      <td>Africa</td>\n",
       "    </tr>\n",
       "    <tr>\n",
       "      <th>...</th>\n",
       "      <td>...</td>\n",
       "      <td>...</td>\n",
       "      <td>...</td>\n",
       "      <td>...</td>\n",
       "      <td>...</td>\n",
       "      <td>...</td>\n",
       "      <td>...</td>\n",
       "      <td>...</td>\n",
       "      <td>...</td>\n",
       "      <td>...</td>\n",
       "    </tr>\n",
       "    <tr>\n",
       "      <th>Uganda</th>\n",
       "      <td>2010</td>\n",
       "      <td>11503116[7618000-17700000]</td>\n",
       "      <td>21558[17200-26000]</td>\n",
       "      <td>11503116</td>\n",
       "      <td>7618000.0</td>\n",
       "      <td>17700000.0</td>\n",
       "      <td>21558</td>\n",
       "      <td>17200.0</td>\n",
       "      <td>26000.0</td>\n",
       "      <td>Africa</td>\n",
       "    </tr>\n",
       "    <tr>\n",
       "      <th>United Republic of Tanzania</th>\n",
       "      <td>2010</td>\n",
       "      <td>6545932[3955000-9995000]</td>\n",
       "      <td>20281[17600-23000]</td>\n",
       "      <td>6545932</td>\n",
       "      <td>3955000.0</td>\n",
       "      <td>9995000.0</td>\n",
       "      <td>20281</td>\n",
       "      <td>17600.0</td>\n",
       "      <td>23000.0</td>\n",
       "      <td>Africa</td>\n",
       "    </tr>\n",
       "    <tr>\n",
       "      <th>Yemen</th>\n",
       "      <td>2010</td>\n",
       "      <td>1134927[611000-2686000]</td>\n",
       "      <td>2874[90-8490]</td>\n",
       "      <td>1134927</td>\n",
       "      <td>611000.0</td>\n",
       "      <td>2686000.0</td>\n",
       "      <td>2874</td>\n",
       "      <td>90.0</td>\n",
       "      <td>8490.0</td>\n",
       "      <td>Eastern Mediterranean</td>\n",
       "    </tr>\n",
       "    <tr>\n",
       "      <th>Zambia</th>\n",
       "      <td>2010</td>\n",
       "      <td>2169307[1449000-3095000]</td>\n",
       "      <td>6544[5580-7510]</td>\n",
       "      <td>2169307</td>\n",
       "      <td>1449000.0</td>\n",
       "      <td>3095000.0</td>\n",
       "      <td>6544</td>\n",
       "      <td>5580.0</td>\n",
       "      <td>7510.0</td>\n",
       "      <td>Africa</td>\n",
       "    </tr>\n",
       "    <tr>\n",
       "      <th>Zimbabwe</th>\n",
       "      <td>2010</td>\n",
       "      <td>1095083[606000-1717000]</td>\n",
       "      <td>2803[80-6190]</td>\n",
       "      <td>1095083</td>\n",
       "      <td>606000.0</td>\n",
       "      <td>1717000.0</td>\n",
       "      <td>2803</td>\n",
       "      <td>80.0</td>\n",
       "      <td>6190.0</td>\n",
       "      <td>Africa</td>\n",
       "    </tr>\n",
       "  </tbody>\n",
       "</table>\n",
       "<p>304 rows × 10 columns</p>\n",
       "</div>"
      ],
      "text/plain": [
       "                             Year                No. of cases  \\\n",
       "Country                                                         \n",
       "Angola                       2017    4615605[3106000-6661000]   \n",
       "Benin                        2017    4111699[2774000-6552000]   \n",
       "Burkina Faso                 2017   7907562[5645000-11330000]   \n",
       "Burundi                      2017    2113066[1284000-3401000]   \n",
       "Cameroon                     2017   7307515[4704000-11030000]   \n",
       "...                           ...                         ...   \n",
       "Uganda                       2010  11503116[7618000-17700000]   \n",
       "United Republic of Tanzania  2010    6545932[3955000-9995000]   \n",
       "Yemen                        2010     1134927[611000-2686000]   \n",
       "Zambia                       2010    2169307[1449000-3095000]   \n",
       "Zimbabwe                     2010     1095083[606000-1717000]   \n",
       "\n",
       "                                  No. of deaths  No. of cases_median  \\\n",
       "Country                                                                \n",
       "Angola                        13316[9970-16600]              4615605   \n",
       "Benin                           7328[5740-8920]              4111699   \n",
       "Burkina Faso                 27791[25100-30500]              7907562   \n",
       "Burundi                         5253[4300-6200]              2113066   \n",
       "Cameroon                      11566[8900-14200]              7307515   \n",
       "...                                         ...                  ...   \n",
       "Uganda                       21558[17200-26000]             11503116   \n",
       "United Republic of Tanzania  20281[17600-23000]              6545932   \n",
       "Yemen                             2874[90-8490]              1134927   \n",
       "Zambia                          6544[5580-7510]              2169307   \n",
       "Zimbabwe                          2803[80-6190]              1095083   \n",
       "\n",
       "                             No. of cases_min  No. of cases_max  \\\n",
       "Country                                                           \n",
       "Angola                              3106000.0         6661000.0   \n",
       "Benin                               2774000.0         6552000.0   \n",
       "Burkina Faso                        5645000.0        11330000.0   \n",
       "Burundi                             1284000.0         3401000.0   \n",
       "Cameroon                            4704000.0        11030000.0   \n",
       "...                                       ...               ...   \n",
       "Uganda                              7618000.0        17700000.0   \n",
       "United Republic of Tanzania         3955000.0         9995000.0   \n",
       "Yemen                                611000.0         2686000.0   \n",
       "Zambia                              1449000.0         3095000.0   \n",
       "Zimbabwe                             606000.0         1717000.0   \n",
       "\n",
       "                             No. of deaths_median  No. of deaths_min  \\\n",
       "Country                                                                \n",
       "Angola                                      13316             9970.0   \n",
       "Benin                                        7328             5740.0   \n",
       "Burkina Faso                                27791            25100.0   \n",
       "Burundi                                      5253             4300.0   \n",
       "Cameroon                                    11566             8900.0   \n",
       "...                                           ...                ...   \n",
       "Uganda                                      21558            17200.0   \n",
       "United Republic of Tanzania                 20281            17600.0   \n",
       "Yemen                                        2874               90.0   \n",
       "Zambia                                       6544             5580.0   \n",
       "Zimbabwe                                     2803               80.0   \n",
       "\n",
       "                             No. of deaths_max             WHO Region  \n",
       "Country                                                                \n",
       "Angola                                 16600.0                 Africa  \n",
       "Benin                                   8920.0                 Africa  \n",
       "Burkina Faso                           30500.0                 Africa  \n",
       "Burundi                                 6200.0                 Africa  \n",
       "Cameroon                               14200.0                 Africa  \n",
       "...                                        ...                    ...  \n",
       "Uganda                                 26000.0                 Africa  \n",
       "United Republic of Tanzania            23000.0                 Africa  \n",
       "Yemen                                   8490.0  Eastern Mediterranean  \n",
       "Zambia                                  7510.0                 Africa  \n",
       "Zimbabwe                                6190.0                 Africa  \n",
       "\n",
       "[304 rows x 10 columns]"
      ]
     },
     "execution_count": 14,
     "metadata": {},
     "output_type": "execute_result"
    }
   ],
   "source": [
    "reviews[reviews['No. of deaths_max'] > 1500]"
   ]
  },
  {
   "cell_type": "code",
   "execution_count": 18,
   "metadata": {},
   "outputs": [
    {
     "data": {
      "text/plain": [
       "<matplotlib.axes._subplots.AxesSubplot at 0x7faf97679c90>"
      ]
     },
     "execution_count": 18,
     "metadata": {},
     "output_type": "execute_result"
    },
    {
     "data": {
      "image/png": "[encoded data removed]",
      "text/plain": [
       "<Figure size 432x288 with 1 Axes>"
      ]
     },
     "metadata": {
      "needs_background": "light"
     },
     "output_type": "display_data"
    }
   ],
   "source": [
    "reviews['No. of deaths_max'].plot.hist()"
   ]
  },
  {
   "cell_type": "markdown",
   "metadata": {},
   "source": [
    "END...UNDERSTOOD"
   ]
  }
 ],
 "metadata": {
  "kernelspec": {
   "display_name": "Python 3",
   "language": "python",
   "name": "python3"
  },
  "language_info": {
   "codemirror_mode": {
    "name": "ipython",
    "version": 3
   },
   "file_extension": ".py",
   "mimetype": "text/x-python",
   "name": "python",
   "nbconvert_exporter": "python",
   "pygments_lexer": "ipython3",
   "version": "3.7.6"
  }
 },
 "nbformat": 4,
 "nbformat_minor": 4
}
